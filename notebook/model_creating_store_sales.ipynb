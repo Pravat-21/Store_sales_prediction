{
 "cells": [
  {
   "cell_type": "code",
   "execution_count": 15,
   "id": "10d8d2c6",
   "metadata": {},
   "outputs": [],
   "source": [
    "import pandas as pd\n",
    "import numpy as np\n",
    "import matplotlib.pyplot as plt\n",
    "import seaborn as sns \n",
    "import plotly.express as px\n",
    "import warnings\n",
    "warnings.filterwarnings('ignore')"
   ]
  },
  {
   "cell_type": "code",
   "execution_count": 16,
   "id": "82d6ca8e",
   "metadata": {},
   "outputs": [],
   "source": [
    "train_df=pd.read_csv(r\"D:\\Project\\ineuron_project\\cleanedTrain.csv\")"
   ]
  },
  {
   "cell_type": "code",
   "execution_count": 17,
   "id": "dcac9aea",
   "metadata": {},
   "outputs": [],
   "source": [
    "#train_df.drop(columns=['Outlet_Identifier'],inplace=True)"
   ]
  },
  {
   "cell_type": "code",
   "execution_count": 18,
   "id": "cadce94f",
   "metadata": {},
   "outputs": [
    {
     "data": {
      "text/html": [
       "<div>\n",
       "<style scoped>\n",
       "    .dataframe tbody tr th:only-of-type {\n",
       "        vertical-align: middle;\n",
       "    }\n",
       "\n",
       "    .dataframe tbody tr th {\n",
       "        vertical-align: top;\n",
       "    }\n",
       "\n",
       "    .dataframe thead th {\n",
       "        text-align: right;\n",
       "    }\n",
       "</style>\n",
       "<table border=\"1\" class=\"dataframe\">\n",
       "  <thead>\n",
       "    <tr style=\"text-align: right;\">\n",
       "      <th></th>\n",
       "      <th>Item_Identifier</th>\n",
       "      <th>Item_Weight</th>\n",
       "      <th>Item_Fat_Content</th>\n",
       "      <th>Item_Visibility</th>\n",
       "      <th>Item_Type</th>\n",
       "      <th>Item_MRP</th>\n",
       "      <th>Outlet_Age</th>\n",
       "      <th>Outlet_Size</th>\n",
       "      <th>Outlet_Location_Type</th>\n",
       "      <th>Outlet_Type</th>\n",
       "      <th>Item_Outlet_Sales</th>\n",
       "    </tr>\n",
       "  </thead>\n",
       "  <tbody>\n",
       "    <tr>\n",
       "      <th>0</th>\n",
       "      <td>FD</td>\n",
       "      <td>9.30</td>\n",
       "      <td>Low Fat</td>\n",
       "      <td>0.016047</td>\n",
       "      <td>Dairy</td>\n",
       "      <td>249.8092</td>\n",
       "      <td>24</td>\n",
       "      <td>Medium</td>\n",
       "      <td>Tier 1</td>\n",
       "      <td>Supermarket Type1</td>\n",
       "      <td>3735.1380</td>\n",
       "    </tr>\n",
       "    <tr>\n",
       "      <th>1</th>\n",
       "      <td>DR</td>\n",
       "      <td>5.92</td>\n",
       "      <td>Regular</td>\n",
       "      <td>0.019278</td>\n",
       "      <td>Drinks</td>\n",
       "      <td>48.2692</td>\n",
       "      <td>14</td>\n",
       "      <td>Medium</td>\n",
       "      <td>Tier 3</td>\n",
       "      <td>Supermarket Type2</td>\n",
       "      <td>443.4228</td>\n",
       "    </tr>\n",
       "    <tr>\n",
       "      <th>2</th>\n",
       "      <td>FD</td>\n",
       "      <td>17.50</td>\n",
       "      <td>Low Fat</td>\n",
       "      <td>0.016760</td>\n",
       "      <td>Meat</td>\n",
       "      <td>141.6180</td>\n",
       "      <td>24</td>\n",
       "      <td>Medium</td>\n",
       "      <td>Tier 1</td>\n",
       "      <td>Supermarket Type1</td>\n",
       "      <td>2097.2700</td>\n",
       "    </tr>\n",
       "  </tbody>\n",
       "</table>\n",
       "</div>"
      ],
      "text/plain": [
       "  Item_Identifier  Item_Weight Item_Fat_Content  Item_Visibility Item_Type  \\\n",
       "0              FD         9.30          Low Fat         0.016047     Dairy   \n",
       "1              DR         5.92          Regular         0.019278    Drinks   \n",
       "2              FD        17.50          Low Fat         0.016760      Meat   \n",
       "\n",
       "   Item_MRP  Outlet_Age Outlet_Size Outlet_Location_Type        Outlet_Type  \\\n",
       "0  249.8092          24      Medium               Tier 1  Supermarket Type1   \n",
       "1   48.2692          14      Medium               Tier 3  Supermarket Type2   \n",
       "2  141.6180          24      Medium               Tier 1  Supermarket Type1   \n",
       "\n",
       "   Item_Outlet_Sales  \n",
       "0          3735.1380  \n",
       "1           443.4228  \n",
       "2          2097.2700  "
      ]
     },
     "execution_count": 18,
     "metadata": {},
     "output_type": "execute_result"
    }
   ],
   "source": [
    "train_df.head(3)"
   ]
  },
  {
   "cell_type": "code",
   "execution_count": 19,
   "id": "c41b11b8",
   "metadata": {},
   "outputs": [],
   "source": [
    "from sklearn.model_selection import train_test_split\n",
    "from sklearn.pipeline import Pipeline\n",
    "from sklearn.compose import ColumnTransformer\n",
    "from sklearn.preprocessing import StandardScaler,PowerTransformer\n",
    "from sklearn.impute import SimpleImputer\n",
    "from sklearn.preprocessing import OrdinalEncoder,OneHotEncoder"
   ]
  },
  {
   "cell_type": "code",
   "execution_count": 20,
   "id": "99900bac",
   "metadata": {},
   "outputs": [],
   "source": [
    "X=train_df.iloc[:,:-1]\n",
    "y=train_df['Item_Outlet_Sales']"
   ]
  },
  {
   "cell_type": "code",
   "execution_count": 21,
   "id": "1e4949cb",
   "metadata": {},
   "outputs": [],
   "source": [
    "X_train,X_test,y_train,y_test=train_test_split(X,y,test_size=0.30,random_state=42)"
   ]
  },
  {
   "cell_type": "code",
   "execution_count": 22,
   "id": "5691dac6",
   "metadata": {},
   "outputs": [
    {
     "name": "stdout",
     "output_type": "stream",
     "text": [
      "(5963, 10)\n",
      "(2556, 10)\n",
      "(5963,)\n",
      "(2556,)\n"
     ]
    }
   ],
   "source": [
    "print(X_train.shape)\n",
    "print(X_test.shape)\n",
    "print(y_train.shape)\n",
    "print(y_test.shape)"
   ]
  },
  {
   "cell_type": "code",
   "execution_count": 23,
   "id": "30f17d24",
   "metadata": {},
   "outputs": [],
   "source": [
    "num_cols=[cols for cols in X_train.columns if X_train[cols].dtypes!='O']"
   ]
  },
  {
   "cell_type": "code",
   "execution_count": 24,
   "id": "cf6f1f4f",
   "metadata": {},
   "outputs": [
    {
     "data": {
      "text/plain": [
       "['Item_Weight', 'Item_Visibility', 'Item_MRP', 'Outlet_Age']"
      ]
     },
     "execution_count": 24,
     "metadata": {},
     "output_type": "execute_result"
    }
   ],
   "source": [
    "num_cols"
   ]
  },
  {
   "cell_type": "code",
   "execution_count": 64,
   "id": "55dcccfc",
   "metadata": {},
   "outputs": [],
   "source": [
    "cat_cols1=['Item_Type', 'Item_Identifier']\n",
    "cat_cols2=['Item_Fat_Content', 'Outlet_Size', 'Outlet_Location_Type', 'Outlet_Type']\n",
    "num_cols=['Item_Weight','Item_Visibility','Item_MRP', 'Outlet_Age']\n",
    "\n",
    "# Define the custom ranking for each ordinal variable\n",
    "fat=['Low Fat','Regular']\n",
    "out_size=['Small','not_mentioned','Medium','High']\n",
    "out_loc=['Tier 3','Tier 2','Tier 1']\n",
    "out_type=['Supermarket Type3','Supermarket Type2','Supermarket Type1','Grocery Store']\n",
    "\n",
    "\n",
    "\n",
    "## Numerical Pipeline\n",
    "num_pipe=Pipeline(steps=[\n",
    "    ('imputer',SimpleImputer(strategy='median')),\n",
    "    ('power',PowerTransformer())\n",
    "])\n",
    "\n",
    "\n",
    "cat_pipe1=Pipeline(steps=[\n",
    "    ('imputer',SimpleImputer(strategy='most_frequent')),\n",
    "    ('encoder',OneHotEncoder(sparse=False,drop='first')),\n",
    "    ('scaler',StandardScaler())\n",
    "\n",
    "])\n",
    "\n",
    "cat_pipe2=Pipeline(steps=[\n",
    "    ('imputer',SimpleImputer(strategy='most_frequent')),\n",
    "    ('encoder',OrdinalEncoder(categories=[fat,out_size,out_loc,out_type])),\n",
    "    ('scaler',StandardScaler())\n",
    "])\n",
    "\n",
    "\n",
    "preprocessor=ColumnTransformer(transformers=[\n",
    "    ('transformer1',num_pipe,num_cols),\n",
    "    ('transformer2',cat_pipe1,cat_cols1),\n",
    "    ('transformer3',cat_pipe2,cat_cols2),\n",
    "])"
   ]
  },
  {
   "cell_type": "code",
   "execution_count": 65,
   "id": "19ab2a3d",
   "metadata": {},
   "outputs": [],
   "source": [
    "from sklearn import set_config\n",
    "set_config(display='diagram')"
   ]
  },
  {
   "cell_type": "code",
   "execution_count": 66,
   "id": "7ee5aac8",
   "metadata": {},
   "outputs": [
    {
     "data": {
      "text/html": [
       "<style>#sk-3c713308-e65f-424d-9d92-7fe4367f7f45 {color: black;background-color: white;}#sk-3c713308-e65f-424d-9d92-7fe4367f7f45 pre{padding: 0;}#sk-3c713308-e65f-424d-9d92-7fe4367f7f45 div.sk-toggleable {background-color: white;}#sk-3c713308-e65f-424d-9d92-7fe4367f7f45 label.sk-toggleable__label {cursor: pointer;display: block;width: 100%;margin-bottom: 0;padding: 0.3em;box-sizing: border-box;text-align: center;}#sk-3c713308-e65f-424d-9d92-7fe4367f7f45 label.sk-toggleable__label-arrow:before {content: \"▸\";float: left;margin-right: 0.25em;color: #696969;}#sk-3c713308-e65f-424d-9d92-7fe4367f7f45 label.sk-toggleable__label-arrow:hover:before {color: black;}#sk-3c713308-e65f-424d-9d92-7fe4367f7f45 div.sk-estimator:hover label.sk-toggleable__label-arrow:before {color: black;}#sk-3c713308-e65f-424d-9d92-7fe4367f7f45 div.sk-toggleable__content {max-height: 0;max-width: 0;overflow: hidden;text-align: left;background-color: #f0f8ff;}#sk-3c713308-e65f-424d-9d92-7fe4367f7f45 div.sk-toggleable__content pre {margin: 0.2em;color: black;border-radius: 0.25em;background-color: #f0f8ff;}#sk-3c713308-e65f-424d-9d92-7fe4367f7f45 input.sk-toggleable__control:checked~div.sk-toggleable__content {max-height: 200px;max-width: 100%;overflow: auto;}#sk-3c713308-e65f-424d-9d92-7fe4367f7f45 input.sk-toggleable__control:checked~label.sk-toggleable__label-arrow:before {content: \"▾\";}#sk-3c713308-e65f-424d-9d92-7fe4367f7f45 div.sk-estimator input.sk-toggleable__control:checked~label.sk-toggleable__label {background-color: #d4ebff;}#sk-3c713308-e65f-424d-9d92-7fe4367f7f45 div.sk-label input.sk-toggleable__control:checked~label.sk-toggleable__label {background-color: #d4ebff;}#sk-3c713308-e65f-424d-9d92-7fe4367f7f45 input.sk-hidden--visually {border: 0;clip: rect(1px 1px 1px 1px);clip: rect(1px, 1px, 1px, 1px);height: 1px;margin: -1px;overflow: hidden;padding: 0;position: absolute;width: 1px;}#sk-3c713308-e65f-424d-9d92-7fe4367f7f45 div.sk-estimator {font-family: monospace;background-color: #f0f8ff;border: 1px dotted black;border-radius: 0.25em;box-sizing: border-box;margin-bottom: 0.5em;}#sk-3c713308-e65f-424d-9d92-7fe4367f7f45 div.sk-estimator:hover {background-color: #d4ebff;}#sk-3c713308-e65f-424d-9d92-7fe4367f7f45 div.sk-parallel-item::after {content: \"\";width: 100%;border-bottom: 1px solid gray;flex-grow: 1;}#sk-3c713308-e65f-424d-9d92-7fe4367f7f45 div.sk-label:hover label.sk-toggleable__label {background-color: #d4ebff;}#sk-3c713308-e65f-424d-9d92-7fe4367f7f45 div.sk-serial::before {content: \"\";position: absolute;border-left: 1px solid gray;box-sizing: border-box;top: 2em;bottom: 0;left: 50%;}#sk-3c713308-e65f-424d-9d92-7fe4367f7f45 div.sk-serial {display: flex;flex-direction: column;align-items: center;background-color: white;padding-right: 0.2em;padding-left: 0.2em;}#sk-3c713308-e65f-424d-9d92-7fe4367f7f45 div.sk-item {z-index: 1;}#sk-3c713308-e65f-424d-9d92-7fe4367f7f45 div.sk-parallel {display: flex;align-items: stretch;justify-content: center;background-color: white;}#sk-3c713308-e65f-424d-9d92-7fe4367f7f45 div.sk-parallel::before {content: \"\";position: absolute;border-left: 1px solid gray;box-sizing: border-box;top: 2em;bottom: 0;left: 50%;}#sk-3c713308-e65f-424d-9d92-7fe4367f7f45 div.sk-parallel-item {display: flex;flex-direction: column;position: relative;background-color: white;}#sk-3c713308-e65f-424d-9d92-7fe4367f7f45 div.sk-parallel-item:first-child::after {align-self: flex-end;width: 50%;}#sk-3c713308-e65f-424d-9d92-7fe4367f7f45 div.sk-parallel-item:last-child::after {align-self: flex-start;width: 50%;}#sk-3c713308-e65f-424d-9d92-7fe4367f7f45 div.sk-parallel-item:only-child::after {width: 0;}#sk-3c713308-e65f-424d-9d92-7fe4367f7f45 div.sk-dashed-wrapped {border: 1px dashed gray;margin: 0 0.4em 0.5em 0.4em;box-sizing: border-box;padding-bottom: 0.4em;background-color: white;position: relative;}#sk-3c713308-e65f-424d-9d92-7fe4367f7f45 div.sk-label label {font-family: monospace;font-weight: bold;background-color: white;display: inline-block;line-height: 1.2em;}#sk-3c713308-e65f-424d-9d92-7fe4367f7f45 div.sk-label-container {position: relative;z-index: 2;text-align: center;}#sk-3c713308-e65f-424d-9d92-7fe4367f7f45 div.sk-container {/* jupyter's `normalize.less` sets `[hidden] { display: none; }` but bootstrap.min.css set `[hidden] { display: none !important; }` so we also need the `!important` here to be able to override the default hidden behavior on the sphinx rendered scikit-learn.org. See: https://github.com/scikit-learn/scikit-learn/issues/21755 */display: inline-block !important;position: relative;}#sk-3c713308-e65f-424d-9d92-7fe4367f7f45 div.sk-text-repr-fallback {display: none;}</style><div id=\"sk-3c713308-e65f-424d-9d92-7fe4367f7f45\" class=\"sk-top-container\"><div class=\"sk-text-repr-fallback\"><pre>ColumnTransformer(transformers=[(&#x27;transformer1&#x27;,\n",
       "                                 Pipeline(steps=[(&#x27;imputer&#x27;,\n",
       "                                                  SimpleImputer(strategy=&#x27;median&#x27;)),\n",
       "                                                 (&#x27;power&#x27;,\n",
       "                                                  PowerTransformer())]),\n",
       "                                 [&#x27;Item_Weight&#x27;, &#x27;Item_Visibility&#x27;, &#x27;Item_MRP&#x27;,\n",
       "                                  &#x27;Outlet_Age&#x27;]),\n",
       "                                (&#x27;transformer2&#x27;,\n",
       "                                 Pipeline(steps=[(&#x27;imputer&#x27;,\n",
       "                                                  SimpleImputer(strategy=&#x27;most_frequent&#x27;)),\n",
       "                                                 (&#x27;encoder&#x27;,\n",
       "                                                  OneHotEncoder(drop=&#x27;first&#x27;,\n",
       "                                                                sparse=False)),\n",
       "                                                 (&#x27;scaler&#x27;, Stan...\n",
       "                                                  SimpleImputer(strategy=&#x27;most_frequent&#x27;)),\n",
       "                                                 (&#x27;encoder&#x27;,\n",
       "                                                  OrdinalEncoder(categories=[[&#x27;Low &#x27;\n",
       "                                                                              &#x27;Fat&#x27;,\n",
       "                                                                              &#x27;Regular&#x27;],\n",
       "                                                                             [&#x27;Small&#x27;,\n",
       "                                                                              &#x27;not_mentioned&#x27;,\n",
       "                                                                              &#x27;Medium&#x27;,\n",
       "                                                                              &#x27;High&#x27;],\n",
       "                                                                             [&#x27;Tier &#x27;\n",
       "                                                                              &#x27;3&#x27;,\n",
       "                                                                              &#x27;Tier &#x27;\n",
       "                                                                              &#x27;2&#x27;,\n",
       "                                                                              &#x27;Tier &#x27;\n",
       "                                                                              &#x27;1&#x27;],\n",
       "                                                                             [&#x27;Supermarket &#x27;\n",
       "                                                                              &#x27;Type3&#x27;,\n",
       "                                                                              &#x27;Supermarket &#x27;\n",
       "                                                                              &#x27;Type2&#x27;,\n",
       "                                                                              &#x27;Supermarket &#x27;\n",
       "                                                                              &#x27;Type1&#x27;,\n",
       "                                                                              &#x27;Grocery &#x27;\n",
       "                                                                              &#x27;Store&#x27;]])),\n",
       "                                                 (&#x27;scaler&#x27;, StandardScaler())]),\n",
       "                                 [&#x27;Item_Fat_Content&#x27;, &#x27;Outlet_Size&#x27;,\n",
       "                                  &#x27;Outlet_Location_Type&#x27;, &#x27;Outlet_Type&#x27;])])</pre><b>Please rerun this cell to show the HTML repr or trust the notebook.</b></div><div class=\"sk-container\" hidden><div class=\"sk-item sk-dashed-wrapped\"><div class=\"sk-label-container\"><div class=\"sk-label sk-toggleable\"><input class=\"sk-toggleable__control sk-hidden--visually\" id=\"e8eb232f-f1ee-4346-895a-314935ad24f5\" type=\"checkbox\" ><label for=\"e8eb232f-f1ee-4346-895a-314935ad24f5\" class=\"sk-toggleable__label sk-toggleable__label-arrow\">ColumnTransformer</label><div class=\"sk-toggleable__content\"><pre>ColumnTransformer(transformers=[(&#x27;transformer1&#x27;,\n",
       "                                 Pipeline(steps=[(&#x27;imputer&#x27;,\n",
       "                                                  SimpleImputer(strategy=&#x27;median&#x27;)),\n",
       "                                                 (&#x27;power&#x27;,\n",
       "                                                  PowerTransformer())]),\n",
       "                                 [&#x27;Item_Weight&#x27;, &#x27;Item_Visibility&#x27;, &#x27;Item_MRP&#x27;,\n",
       "                                  &#x27;Outlet_Age&#x27;]),\n",
       "                                (&#x27;transformer2&#x27;,\n",
       "                                 Pipeline(steps=[(&#x27;imputer&#x27;,\n",
       "                                                  SimpleImputer(strategy=&#x27;most_frequent&#x27;)),\n",
       "                                                 (&#x27;encoder&#x27;,\n",
       "                                                  OneHotEncoder(drop=&#x27;first&#x27;,\n",
       "                                                                sparse=False)),\n",
       "                                                 (&#x27;scaler&#x27;, Stan...\n",
       "                                                  SimpleImputer(strategy=&#x27;most_frequent&#x27;)),\n",
       "                                                 (&#x27;encoder&#x27;,\n",
       "                                                  OrdinalEncoder(categories=[[&#x27;Low &#x27;\n",
       "                                                                              &#x27;Fat&#x27;,\n",
       "                                                                              &#x27;Regular&#x27;],\n",
       "                                                                             [&#x27;Small&#x27;,\n",
       "                                                                              &#x27;not_mentioned&#x27;,\n",
       "                                                                              &#x27;Medium&#x27;,\n",
       "                                                                              &#x27;High&#x27;],\n",
       "                                                                             [&#x27;Tier &#x27;\n",
       "                                                                              &#x27;3&#x27;,\n",
       "                                                                              &#x27;Tier &#x27;\n",
       "                                                                              &#x27;2&#x27;,\n",
       "                                                                              &#x27;Tier &#x27;\n",
       "                                                                              &#x27;1&#x27;],\n",
       "                                                                             [&#x27;Supermarket &#x27;\n",
       "                                                                              &#x27;Type3&#x27;,\n",
       "                                                                              &#x27;Supermarket &#x27;\n",
       "                                                                              &#x27;Type2&#x27;,\n",
       "                                                                              &#x27;Supermarket &#x27;\n",
       "                                                                              &#x27;Type1&#x27;,\n",
       "                                                                              &#x27;Grocery &#x27;\n",
       "                                                                              &#x27;Store&#x27;]])),\n",
       "                                                 (&#x27;scaler&#x27;, StandardScaler())]),\n",
       "                                 [&#x27;Item_Fat_Content&#x27;, &#x27;Outlet_Size&#x27;,\n",
       "                                  &#x27;Outlet_Location_Type&#x27;, &#x27;Outlet_Type&#x27;])])</pre></div></div></div><div class=\"sk-parallel\"><div class=\"sk-parallel-item\"><div class=\"sk-item\"><div class=\"sk-label-container\"><div class=\"sk-label sk-toggleable\"><input class=\"sk-toggleable__control sk-hidden--visually\" id=\"e6c652d9-1ad4-4e39-b51e-43070900906b\" type=\"checkbox\" ><label for=\"e6c652d9-1ad4-4e39-b51e-43070900906b\" class=\"sk-toggleable__label sk-toggleable__label-arrow\">transformer1</label><div class=\"sk-toggleable__content\"><pre>[&#x27;Item_Weight&#x27;, &#x27;Item_Visibility&#x27;, &#x27;Item_MRP&#x27;, &#x27;Outlet_Age&#x27;]</pre></div></div></div><div class=\"sk-serial\"><div class=\"sk-item\"><div class=\"sk-serial\"><div class=\"sk-item\"><div class=\"sk-estimator sk-toggleable\"><input class=\"sk-toggleable__control sk-hidden--visually\" id=\"eb1170a8-c029-4396-bb30-9c63e3e548ca\" type=\"checkbox\" ><label for=\"eb1170a8-c029-4396-bb30-9c63e3e548ca\" class=\"sk-toggleable__label sk-toggleable__label-arrow\">SimpleImputer</label><div class=\"sk-toggleable__content\"><pre>SimpleImputer(strategy=&#x27;median&#x27;)</pre></div></div></div><div class=\"sk-item\"><div class=\"sk-estimator sk-toggleable\"><input class=\"sk-toggleable__control sk-hidden--visually\" id=\"dfda7458-17f2-44b2-b28d-8d50f2f75048\" type=\"checkbox\" ><label for=\"dfda7458-17f2-44b2-b28d-8d50f2f75048\" class=\"sk-toggleable__label sk-toggleable__label-arrow\">PowerTransformer</label><div class=\"sk-toggleable__content\"><pre>PowerTransformer()</pre></div></div></div></div></div></div></div></div><div class=\"sk-parallel-item\"><div class=\"sk-item\"><div class=\"sk-label-container\"><div class=\"sk-label sk-toggleable\"><input class=\"sk-toggleable__control sk-hidden--visually\" id=\"39dce34a-4579-4883-9ad5-1ad27f904e6d\" type=\"checkbox\" ><label for=\"39dce34a-4579-4883-9ad5-1ad27f904e6d\" class=\"sk-toggleable__label sk-toggleable__label-arrow\">transformer2</label><div class=\"sk-toggleable__content\"><pre>[&#x27;Item_Type&#x27;, &#x27;Item_Identifier&#x27;]</pre></div></div></div><div class=\"sk-serial\"><div class=\"sk-item\"><div class=\"sk-serial\"><div class=\"sk-item\"><div class=\"sk-estimator sk-toggleable\"><input class=\"sk-toggleable__control sk-hidden--visually\" id=\"8444603c-be42-4075-9b7d-f4ad005bd899\" type=\"checkbox\" ><label for=\"8444603c-be42-4075-9b7d-f4ad005bd899\" class=\"sk-toggleable__label sk-toggleable__label-arrow\">SimpleImputer</label><div class=\"sk-toggleable__content\"><pre>SimpleImputer(strategy=&#x27;most_frequent&#x27;)</pre></div></div></div><div class=\"sk-item\"><div class=\"sk-estimator sk-toggleable\"><input class=\"sk-toggleable__control sk-hidden--visually\" id=\"e0a61222-9cd0-450c-bfc1-c09356c29741\" type=\"checkbox\" ><label for=\"e0a61222-9cd0-450c-bfc1-c09356c29741\" class=\"sk-toggleable__label sk-toggleable__label-arrow\">OneHotEncoder</label><div class=\"sk-toggleable__content\"><pre>OneHotEncoder(drop=&#x27;first&#x27;, sparse=False)</pre></div></div></div><div class=\"sk-item\"><div class=\"sk-estimator sk-toggleable\"><input class=\"sk-toggleable__control sk-hidden--visually\" id=\"9c531fde-8294-43af-8111-9cb6832a407e\" type=\"checkbox\" ><label for=\"9c531fde-8294-43af-8111-9cb6832a407e\" class=\"sk-toggleable__label sk-toggleable__label-arrow\">StandardScaler</label><div class=\"sk-toggleable__content\"><pre>StandardScaler()</pre></div></div></div></div></div></div></div></div><div class=\"sk-parallel-item\"><div class=\"sk-item\"><div class=\"sk-label-container\"><div class=\"sk-label sk-toggleable\"><input class=\"sk-toggleable__control sk-hidden--visually\" id=\"196948ca-3e7b-4bc7-84d6-744c9c30254c\" type=\"checkbox\" ><label for=\"196948ca-3e7b-4bc7-84d6-744c9c30254c\" class=\"sk-toggleable__label sk-toggleable__label-arrow\">transformer3</label><div class=\"sk-toggleable__content\"><pre>[&#x27;Item_Fat_Content&#x27;, &#x27;Outlet_Size&#x27;, &#x27;Outlet_Location_Type&#x27;, &#x27;Outlet_Type&#x27;]</pre></div></div></div><div class=\"sk-serial\"><div class=\"sk-item\"><div class=\"sk-serial\"><div class=\"sk-item\"><div class=\"sk-estimator sk-toggleable\"><input class=\"sk-toggleable__control sk-hidden--visually\" id=\"2b2d1138-8061-4062-a8e7-2b0730ad4577\" type=\"checkbox\" ><label for=\"2b2d1138-8061-4062-a8e7-2b0730ad4577\" class=\"sk-toggleable__label sk-toggleable__label-arrow\">SimpleImputer</label><div class=\"sk-toggleable__content\"><pre>SimpleImputer(strategy=&#x27;most_frequent&#x27;)</pre></div></div></div><div class=\"sk-item\"><div class=\"sk-estimator sk-toggleable\"><input class=\"sk-toggleable__control sk-hidden--visually\" id=\"35ca7c94-859f-4a77-a9a1-d05aaf1d76d6\" type=\"checkbox\" ><label for=\"35ca7c94-859f-4a77-a9a1-d05aaf1d76d6\" class=\"sk-toggleable__label sk-toggleable__label-arrow\">OrdinalEncoder</label><div class=\"sk-toggleable__content\"><pre>OrdinalEncoder(categories=[[&#x27;Low Fat&#x27;, &#x27;Regular&#x27;],\n",
       "                           [&#x27;Small&#x27;, &#x27;not_mentioned&#x27;, &#x27;Medium&#x27;, &#x27;High&#x27;],\n",
       "                           [&#x27;Tier 3&#x27;, &#x27;Tier 2&#x27;, &#x27;Tier 1&#x27;],\n",
       "                           [&#x27;Supermarket Type3&#x27;, &#x27;Supermarket Type2&#x27;,\n",
       "                            &#x27;Supermarket Type1&#x27;, &#x27;Grocery Store&#x27;]])</pre></div></div></div><div class=\"sk-item\"><div class=\"sk-estimator sk-toggleable\"><input class=\"sk-toggleable__control sk-hidden--visually\" id=\"f4271092-c525-4c22-ba04-a4baa6a759c7\" type=\"checkbox\" ><label for=\"f4271092-c525-4c22-ba04-a4baa6a759c7\" class=\"sk-toggleable__label sk-toggleable__label-arrow\">StandardScaler</label><div class=\"sk-toggleable__content\"><pre>StandardScaler()</pre></div></div></div></div></div></div></div></div></div></div></div></div>"
      ],
      "text/plain": [
       "ColumnTransformer(transformers=[('transformer1',\n",
       "                                 Pipeline(steps=[('imputer',\n",
       "                                                  SimpleImputer(strategy='median')),\n",
       "                                                 ('power',\n",
       "                                                  PowerTransformer())]),\n",
       "                                 ['Item_Weight', 'Item_Visibility', 'Item_MRP',\n",
       "                                  'Outlet_Age']),\n",
       "                                ('transformer2',\n",
       "                                 Pipeline(steps=[('imputer',\n",
       "                                                  SimpleImputer(strategy='most_frequent')),\n",
       "                                                 ('encoder',\n",
       "                                                  OneHotEncoder(drop='first',\n",
       "                                                                sparse=False)),\n",
       "                                                 ('scaler', Stan...\n",
       "                                                  SimpleImputer(strategy='most_frequent')),\n",
       "                                                 ('encoder',\n",
       "                                                  OrdinalEncoder(categories=[['Low '\n",
       "                                                                              'Fat',\n",
       "                                                                              'Regular'],\n",
       "                                                                             ['Small',\n",
       "                                                                              'not_mentioned',\n",
       "                                                                              'Medium',\n",
       "                                                                              'High'],\n",
       "                                                                             ['Tier '\n",
       "                                                                              '3',\n",
       "                                                                              'Tier '\n",
       "                                                                              '2',\n",
       "                                                                              'Tier '\n",
       "                                                                              '1'],\n",
       "                                                                             ['Supermarket '\n",
       "                                                                              'Type3',\n",
       "                                                                              'Supermarket '\n",
       "                                                                              'Type2',\n",
       "                                                                              'Supermarket '\n",
       "                                                                              'Type1',\n",
       "                                                                              'Grocery '\n",
       "                                                                              'Store']])),\n",
       "                                                 ('scaler', StandardScaler())]),\n",
       "                                 ['Item_Fat_Content', 'Outlet_Size',\n",
       "                                  'Outlet_Location_Type', 'Outlet_Type'])])"
      ]
     },
     "execution_count": 66,
     "metadata": {},
     "output_type": "execute_result"
    }
   ],
   "source": [
    "preprocessor"
   ]
  },
  {
   "cell_type": "code",
   "execution_count": 71,
   "id": "e66a72eb",
   "metadata": {},
   "outputs": [],
   "source": [
    "X_train=preprocessor.fit_transform(X_train)\n",
    "X_test=preprocessor.transform(X_test)"
   ]
  },
  {
   "cell_type": "code",
   "execution_count": 72,
   "id": "bc475f45",
   "metadata": {},
   "outputs": [],
   "source": [
    "X_train=pd.DataFrame(X_train)\n",
    "X_test=pd.DataFrame(X_test)"
   ]
  },
  {
   "cell_type": "code",
   "execution_count": 73,
   "id": "38344cd0",
   "metadata": {},
   "outputs": [
    {
     "name": "stdout",
     "output_type": "stream",
     "text": [
      "(5963, 18)\n",
      "(2556, 18)\n"
     ]
    }
   ],
   "source": [
    "print(X_train.shape)\n",
    "print(X_test.shape)"
   ]
  },
  {
   "cell_type": "markdown",
   "id": "780ddbb7",
   "metadata": {},
   "source": [
    "## MODEL CREATION :"
   ]
  },
  {
   "cell_type": "code",
   "execution_count": 87,
   "id": "74896331",
   "metadata": {},
   "outputs": [],
   "source": [
    "from sklearn.linear_model import LinearRegression,Lasso,Ridge,ElasticNet\n",
    "from sklearn.tree import DecisionTreeRegressor\n",
    "from sklearn.ensemble import RandomForestRegressor,AdaBoostRegressor,GradientBoostingRegressor\n",
    "from sklearn.svm import SVR\n",
    "from xgboost import XGBRegressor\n",
    "from sklearn.metrics import r2_score,mean_absolute_error,mean_squared_error\n",
    "from sklearn.model_selection import KFold,cross_val_score\n",
    "from sklearn.model_selection import GridSearchCV"
   ]
  },
  {
   "cell_type": "code",
   "execution_count": 82,
   "id": "d51a7d84",
   "metadata": {},
   "outputs": [],
   "source": [
    "models={\n",
    "    'linear_regression':LinearRegression(),\n",
    "    'lasso':Lasso(),\n",
    "    'ridge':Ridge(),\n",
    "    'elastic_net':ElasticNet(),\n",
    "    'decision_tree':DecisionTreeRegressor(),\n",
    "    'Random_forest':RandomForestRegressor(),\n",
    "    'Adaboost_reg':AdaBoostRegressor(),\n",
    "    'Gradient_boost_reg':GradientBoostingRegressor(),\n",
    "    'svr':SVR(),\n",
    "    'xgb_reg':XGBRegressor()\n",
    "}"
   ]
  },
  {
   "cell_type": "code",
   "execution_count": 85,
   "id": "86117d7a",
   "metadata": {},
   "outputs": [
    {
     "name": "stdout",
     "output_type": "stream",
     "text": [
      "for linear_regression\n",
      "\n",
      "r2-score 0.7104878144874012\n",
      "================================================================================\n",
      "for lasso\n",
      "\n",
      "r2-score 0.7107455672120556\n",
      "================================================================================\n",
      "for ridge\n",
      "\n",
      "r2-score 0.7104902077821487\n",
      "================================================================================\n",
      "for elastic_net\n",
      "\n",
      "r2-score 0.6528142996968054\n",
      "================================================================================\n",
      "for decision_tree\n",
      "\n",
      "r2-score 0.4117451752332356\n",
      "================================================================================\n",
      "for Random_forest\n",
      "\n",
      "r2-score 0.7890999656065532\n",
      "================================================================================\n",
      "for Adaboost_reg\n",
      "\n",
      "r2-score 0.6180203822542494\n",
      "================================================================================\n",
      "for Gradient_boost_reg\n",
      "\n",
      "r2-score 0.8359386691409746\n",
      "================================================================================\n",
      "for svr\n",
      "\n",
      "r2-score 0.20192878979409729\n",
      "================================================================================\n",
      "for xgb_reg\n",
      "\n",
      "r2-score 0.7757150092743168\n",
      "================================================================================\n"
     ]
    }
   ],
   "source": [
    "kfold=KFold(n_splits=10,shuffle=True,random_state=42)\n",
    "r2_scr=[]\n",
    "for i in models:\n",
    "    model=models[i]\n",
    "    score=cross_val_score(model,X_train,y_train,scoring='r2',cv=kfold).mean()\n",
    "    print(f\"for {i}\\n\")\n",
    "    print('r2-score',score)\n",
    "    print('='*80)\n",
    "    r2_scr.append(score)"
   ]
  },
  {
   "cell_type": "code",
   "execution_count": 127,
   "id": "5018e86c",
   "metadata": {},
   "outputs": [
    {
     "data": {
      "text/plain": [
       "[0.7104878144874012,\n",
       " 0.7107455672120556,\n",
       " 0.7104902077821487,\n",
       " 0.6528142996968054,\n",
       " 0.4117451752332356,\n",
       " 0.7890999656065532,\n",
       " 0.6180203822542494,\n",
       " 0.8359386691409746,\n",
       " 0.20192878979409729,\n",
       " 0.7757150092743168]"
      ]
     },
     "execution_count": 127,
     "metadata": {},
     "output_type": "execute_result"
    }
   ],
   "source": [
    "r2_scr"
   ]
  },
  {
   "cell_type": "code",
   "execution_count": null,
   "id": "c684234c",
   "metadata": {},
   "outputs": [],
   "source": []
  },
  {
   "cell_type": "markdown",
   "id": "4600f9ec",
   "metadata": {},
   "source": [
    "## _________________________________________"
   ]
  },
  {
   "cell_type": "markdown",
   "id": "a0a991a6",
   "metadata": {},
   "source": [
    "## Hyperparameter Tuning :"
   ]
  },
  {
   "cell_type": "code",
   "execution_count": 86,
   "id": "949f899d",
   "metadata": {},
   "outputs": [],
   "source": [
    "params={\n",
    "                \"Random_forest\":{\n",
    "                    'n_estimators': [8,16,32,64,128,256]\n",
    "                },\n",
    "                \"lasso\":{},\n",
    "                \"ridge\":{},\n",
    "                \"elastic_net\":{},\n",
    "                \"svr\":{},\n",
    "                \"decision_tree\":{},\n",
    "                \"Gradient_boost_reg\":{\n",
    "                    'learning_rate':[.1,.01,.05,.001],\n",
    "                    'subsample':[0.6,0.7,0.75,0.8,0.85,0.9],\n",
    "                    'n_estimators': [8,16,32,64,128,256]\n",
    "                },\n",
    "                \"linear_regression\":{},\n",
    "                \"xgb_reg\":{\n",
    "                    'learning_rate':[.1,.01,.05,.001],\n",
    "                    'n_estimators': [8,16,32,64,128,256]\n",
    "                },\n",
    "                \n",
    "                \"Adaboost_reg\":{\n",
    "                    'learning_rate':[.1,.01,0.5,.001],\n",
    "                    'n_estimators': [8,16,32,64,128,256]\n",
    "                }\n",
    "                \n",
    "            }"
   ]
  },
  {
   "cell_type": "code",
   "execution_count": 93,
   "id": "f66afe17",
   "metadata": {},
   "outputs": [
    {
     "name": "stdout",
     "output_type": "stream",
     "text": [
      "linear_regression\n",
      "{}\n",
      "lasso\n",
      "{}\n",
      "ridge\n",
      "{}\n",
      "elastic_net\n",
      "{}\n",
      "decision_tree\n",
      "{}\n",
      "Random_forest\n",
      "{'n_estimators': 256}\n",
      "Adaboost_reg\n",
      "{'learning_rate': 0.1, 'n_estimators': 64}\n",
      "Gradient_boost_reg\n",
      "{'learning_rate': 0.05, 'n_estimators': 128, 'subsample': 0.85}\n",
      "svr\n",
      "{}\n",
      "xgb_reg\n",
      "{'learning_rate': 0.1, 'n_estimators': 32}\n"
     ]
    }
   ],
   "source": [
    "report = {}\n",
    "mean_sqr_error=[]\n",
    "mean_abs_error=[]\n",
    "for i in range(len(models)):\n",
    "    model = list(models.values())[i]\n",
    "    para=params[list(models.keys())[i]]\n",
    "    # Train model\n",
    "    gs = GridSearchCV(model,para,cv=3)\n",
    "    gs.fit(X_train,y_train)\n",
    "    \n",
    "    print(list(models.keys())[i])\n",
    "    print(gs.best_params_)\n",
    "    model.set_params(**gs.best_params_)\n",
    "    model.fit(X_train,y_train)\n",
    "\n",
    "    y_test_pred = model.predict(X_test)\n",
    "    test_model_score = r2_score(y_test, y_test_pred)\n",
    "    mean_square_err=mean_squared_error(y_test, y_test_pred)\n",
    "    mean_abs_err=mean_absolute_error(y_test, y_test_pred)\n",
    "    \n",
    "    mean_sqr_error.append(mean_square_err)\n",
    "    mean_abs_error.append(mean_abs_err)\n",
    "    report[list(models.keys())[i]] =  test_model_score"
   ]
  },
  {
   "cell_type": "code",
   "execution_count": 99,
   "id": "980f6b59",
   "metadata": {},
   "outputs": [
    {
     "data": {
      "text/plain": [
       "[957111.6285667394,\n",
       " 957361.0062414962,\n",
       " 957104.6588741755,\n",
       " 1211667.2917158324,\n",
       " 1913105.001703018,\n",
       " 584188.881611422,\n",
       " 1312793.4456723274,\n",
       " 407776.1457476024,\n",
       " 2388124.1054826304,\n",
       " 693458.2892313369]"
      ]
     },
     "execution_count": 99,
     "metadata": {},
     "output_type": "execute_result"
    }
   ],
   "source": [
    "mean_sqr_error"
   ]
  },
  {
   "cell_type": "code",
   "execution_count": 103,
   "id": "d92d4877",
   "metadata": {},
   "outputs": [
    {
     "data": {
      "text/plain": [
       "[705.0218208101045,\n",
       " 705.140364468412,\n",
       " 705.3172500247051,\n",
       " 978.0012489021435,\n",
       " 1014.0319901257411,\n",
       " 571.1167477787458,\n",
       " 1032.5344309317852,\n",
       " 394.0769370810366,\n",
       " 1137.8796514314881,\n",
       " 605.7844423957374]"
      ]
     },
     "execution_count": 103,
     "metadata": {},
     "output_type": "execute_result"
    }
   ],
   "source": [
    "mean_abs_error"
   ]
  },
  {
   "cell_type": "code",
   "execution_count": 95,
   "id": "d500d180",
   "metadata": {},
   "outputs": [
    {
     "data": {
      "text/plain": [
       "{'linear_regression': 0.7124856144874497,\n",
       " 'lasso': 0.7108710672120414,\n",
       " 'ridge': 0.7041145207478203,\n",
       " 'elastic_net': 0.6521254299696805,\n",
       " 'decision_tree': 0.4117448762332012,\n",
       " 'Random_forest': 0.8188710365606553,\n",
       " 'Adaboost_reg': 0.668102482254741,\n",
       " 'Gradient_boost_reg': 0.8721385520409746,\n",
       " 'svr': 0.1983287897940973,\n",
       " 'xgb_reg': 0.7973141962778002}"
      ]
     },
     "execution_count": 95,
     "metadata": {},
     "output_type": "execute_result"
    }
   ],
   "source": [
    "report"
   ]
  },
  {
   "cell_type": "code",
   "execution_count": 105,
   "id": "ef6d8822",
   "metadata": {},
   "outputs": [],
   "source": [
    "r2_score_param=list(report.values())"
   ]
  },
  {
   "cell_type": "code",
   "execution_count": 106,
   "id": "6459eb3c",
   "metadata": {},
   "outputs": [
    {
     "data": {
      "text/plain": [
       "[0.7124856144874497,\n",
       " 0.7108710672120414,\n",
       " 0.7041145207478203,\n",
       " 0.6521254299696805,\n",
       " 0.4117448762332012,\n",
       " 0.8188710365606553,\n",
       " 0.668102482254741,\n",
       " 0.8721385520409746,\n",
       " 0.1983287897940973,\n",
       " 0.7973141962778002]"
      ]
     },
     "execution_count": 106,
     "metadata": {},
     "output_type": "execute_result"
    }
   ],
   "source": [
    "r2_score_param"
   ]
  },
  {
   "cell_type": "code",
   "execution_count": 119,
   "id": "14acd434",
   "metadata": {},
   "outputs": [],
   "source": [
    "result_df=pd.DataFrame({\n",
    "    'Model_Name':list(models.keys()),\n",
    "    'r2_score':r2_score_param,\n",
    "    'mean_sqr_err':mean_sqr_error,\n",
    "    'mean_abs_error':mean_abs_error\n",
    "})"
   ]
  },
  {
   "cell_type": "code",
   "execution_count": 120,
   "id": "96cba517",
   "metadata": {},
   "outputs": [
    {
     "data": {
      "text/html": [
       "<div>\n",
       "<style scoped>\n",
       "    .dataframe tbody tr th:only-of-type {\n",
       "        vertical-align: middle;\n",
       "    }\n",
       "\n",
       "    .dataframe tbody tr th {\n",
       "        vertical-align: top;\n",
       "    }\n",
       "\n",
       "    .dataframe thead th {\n",
       "        text-align: right;\n",
       "    }\n",
       "</style>\n",
       "<table border=\"1\" class=\"dataframe\">\n",
       "  <thead>\n",
       "    <tr style=\"text-align: right;\">\n",
       "      <th></th>\n",
       "      <th>Model_Name</th>\n",
       "      <th>r2_score</th>\n",
       "      <th>mean_sqr_err</th>\n",
       "      <th>mean_abs_error</th>\n",
       "    </tr>\n",
       "  </thead>\n",
       "  <tbody>\n",
       "    <tr>\n",
       "      <th>0</th>\n",
       "      <td>linear_regression</td>\n",
       "      <td>0.712486</td>\n",
       "      <td>9.571116e+05</td>\n",
       "      <td>705.021821</td>\n",
       "    </tr>\n",
       "    <tr>\n",
       "      <th>1</th>\n",
       "      <td>lasso</td>\n",
       "      <td>0.710871</td>\n",
       "      <td>9.573610e+05</td>\n",
       "      <td>705.140364</td>\n",
       "    </tr>\n",
       "    <tr>\n",
       "      <th>2</th>\n",
       "      <td>ridge</td>\n",
       "      <td>0.704115</td>\n",
       "      <td>9.571047e+05</td>\n",
       "      <td>705.317250</td>\n",
       "    </tr>\n",
       "    <tr>\n",
       "      <th>3</th>\n",
       "      <td>elastic_net</td>\n",
       "      <td>0.652125</td>\n",
       "      <td>1.211667e+06</td>\n",
       "      <td>978.001249</td>\n",
       "    </tr>\n",
       "    <tr>\n",
       "      <th>4</th>\n",
       "      <td>decision_tree</td>\n",
       "      <td>0.411745</td>\n",
       "      <td>1.913105e+06</td>\n",
       "      <td>1014.031990</td>\n",
       "    </tr>\n",
       "    <tr>\n",
       "      <th>5</th>\n",
       "      <td>Random_forest</td>\n",
       "      <td>0.818871</td>\n",
       "      <td>5.841889e+05</td>\n",
       "      <td>571.116748</td>\n",
       "    </tr>\n",
       "    <tr>\n",
       "      <th>6</th>\n",
       "      <td>Adaboost_reg</td>\n",
       "      <td>0.668102</td>\n",
       "      <td>1.312793e+06</td>\n",
       "      <td>1032.534431</td>\n",
       "    </tr>\n",
       "    <tr>\n",
       "      <th>7</th>\n",
       "      <td>Gradient_boost_reg</td>\n",
       "      <td>0.872139</td>\n",
       "      <td>4.077761e+05</td>\n",
       "      <td>394.076937</td>\n",
       "    </tr>\n",
       "    <tr>\n",
       "      <th>8</th>\n",
       "      <td>svr</td>\n",
       "      <td>0.198329</td>\n",
       "      <td>2.388124e+06</td>\n",
       "      <td>1137.879651</td>\n",
       "    </tr>\n",
       "    <tr>\n",
       "      <th>9</th>\n",
       "      <td>xgb_reg</td>\n",
       "      <td>0.797314</td>\n",
       "      <td>6.934583e+05</td>\n",
       "      <td>605.784442</td>\n",
       "    </tr>\n",
       "  </tbody>\n",
       "</table>\n",
       "</div>"
      ],
      "text/plain": [
       "           Model_Name  r2_score  mean_sqr_err  mean_abs_error\n",
       "0   linear_regression  0.712486  9.571116e+05      705.021821\n",
       "1               lasso  0.710871  9.573610e+05      705.140364\n",
       "2               ridge  0.704115  9.571047e+05      705.317250\n",
       "3         elastic_net  0.652125  1.211667e+06      978.001249\n",
       "4       decision_tree  0.411745  1.913105e+06     1014.031990\n",
       "5       Random_forest  0.818871  5.841889e+05      571.116748\n",
       "6        Adaboost_reg  0.668102  1.312793e+06     1032.534431\n",
       "7  Gradient_boost_reg  0.872139  4.077761e+05      394.076937\n",
       "8                 svr  0.198329  2.388124e+06     1137.879651\n",
       "9             xgb_reg  0.797314  6.934583e+05      605.784442"
      ]
     },
     "execution_count": 120,
     "metadata": {},
     "output_type": "execute_result"
    }
   ],
   "source": [
    "result_df"
   ]
  },
  {
   "cell_type": "code",
   "execution_count": 122,
   "id": "56fe2387",
   "metadata": {},
   "outputs": [],
   "source": [
    "result_df=result_df.sort_values(by='r2_score',ascending=False)"
   ]
  },
  {
   "cell_type": "code",
   "execution_count": 123,
   "id": "d8fdc73b",
   "metadata": {},
   "outputs": [
    {
     "data": {
      "text/html": [
       "<div>\n",
       "<style scoped>\n",
       "    .dataframe tbody tr th:only-of-type {\n",
       "        vertical-align: middle;\n",
       "    }\n",
       "\n",
       "    .dataframe tbody tr th {\n",
       "        vertical-align: top;\n",
       "    }\n",
       "\n",
       "    .dataframe thead th {\n",
       "        text-align: right;\n",
       "    }\n",
       "</style>\n",
       "<table border=\"1\" class=\"dataframe\">\n",
       "  <thead>\n",
       "    <tr style=\"text-align: right;\">\n",
       "      <th></th>\n",
       "      <th>Model_Name</th>\n",
       "      <th>r2_score</th>\n",
       "      <th>mean_sqr_err</th>\n",
       "      <th>mean_abs_error</th>\n",
       "    </tr>\n",
       "  </thead>\n",
       "  <tbody>\n",
       "    <tr>\n",
       "      <th>7</th>\n",
       "      <td>Gradient_boost_reg</td>\n",
       "      <td>0.872139</td>\n",
       "      <td>4.077761e+05</td>\n",
       "      <td>394.076937</td>\n",
       "    </tr>\n",
       "    <tr>\n",
       "      <th>5</th>\n",
       "      <td>Random_forest</td>\n",
       "      <td>0.818871</td>\n",
       "      <td>5.841889e+05</td>\n",
       "      <td>571.116748</td>\n",
       "    </tr>\n",
       "    <tr>\n",
       "      <th>9</th>\n",
       "      <td>xgb_reg</td>\n",
       "      <td>0.797314</td>\n",
       "      <td>6.934583e+05</td>\n",
       "      <td>605.784442</td>\n",
       "    </tr>\n",
       "    <tr>\n",
       "      <th>0</th>\n",
       "      <td>linear_regression</td>\n",
       "      <td>0.712486</td>\n",
       "      <td>9.571116e+05</td>\n",
       "      <td>705.021821</td>\n",
       "    </tr>\n",
       "    <tr>\n",
       "      <th>1</th>\n",
       "      <td>lasso</td>\n",
       "      <td>0.710871</td>\n",
       "      <td>9.573610e+05</td>\n",
       "      <td>705.140364</td>\n",
       "    </tr>\n",
       "    <tr>\n",
       "      <th>2</th>\n",
       "      <td>ridge</td>\n",
       "      <td>0.704115</td>\n",
       "      <td>9.571047e+05</td>\n",
       "      <td>705.317250</td>\n",
       "    </tr>\n",
       "    <tr>\n",
       "      <th>6</th>\n",
       "      <td>Adaboost_reg</td>\n",
       "      <td>0.668102</td>\n",
       "      <td>1.312793e+06</td>\n",
       "      <td>1032.534431</td>\n",
       "    </tr>\n",
       "    <tr>\n",
       "      <th>3</th>\n",
       "      <td>elastic_net</td>\n",
       "      <td>0.652125</td>\n",
       "      <td>1.211667e+06</td>\n",
       "      <td>978.001249</td>\n",
       "    </tr>\n",
       "    <tr>\n",
       "      <th>4</th>\n",
       "      <td>decision_tree</td>\n",
       "      <td>0.411745</td>\n",
       "      <td>1.913105e+06</td>\n",
       "      <td>1014.031990</td>\n",
       "    </tr>\n",
       "    <tr>\n",
       "      <th>8</th>\n",
       "      <td>svr</td>\n",
       "      <td>0.198329</td>\n",
       "      <td>2.388124e+06</td>\n",
       "      <td>1137.879651</td>\n",
       "    </tr>\n",
       "  </tbody>\n",
       "</table>\n",
       "</div>"
      ],
      "text/plain": [
       "           Model_Name  r2_score  mean_sqr_err  mean_abs_error\n",
       "7  Gradient_boost_reg  0.872139  4.077761e+05      394.076937\n",
       "5       Random_forest  0.818871  5.841889e+05      571.116748\n",
       "9             xgb_reg  0.797314  6.934583e+05      605.784442\n",
       "0   linear_regression  0.712486  9.571116e+05      705.021821\n",
       "1               lasso  0.710871  9.573610e+05      705.140364\n",
       "2               ridge  0.704115  9.571047e+05      705.317250\n",
       "6        Adaboost_reg  0.668102  1.312793e+06     1032.534431\n",
       "3         elastic_net  0.652125  1.211667e+06      978.001249\n",
       "4       decision_tree  0.411745  1.913105e+06     1014.031990\n",
       "8                 svr  0.198329  2.388124e+06     1137.879651"
      ]
     },
     "execution_count": 123,
     "metadata": {},
     "output_type": "execute_result"
    }
   ],
   "source": [
    "result_df"
   ]
  },
  {
   "cell_type": "code",
   "execution_count": 132,
   "id": "dfe49d79",
   "metadata": {},
   "outputs": [
    {
     "data": {
      "text/plain": [
       "[0.8359386691409746,\n",
       " 0.7890999656065532,\n",
       " 0.7757150092743168,\n",
       " 0.7107455672120556,\n",
       " 0.7104902077821487,\n",
       " 0.7104878144874012,\n",
       " 0.6528142996968054,\n",
       " 0.6180203822542494,\n",
       " 0.4117451752332356,\n",
       " 0.20192878979409729]"
      ]
     },
     "execution_count": 132,
     "metadata": {},
     "output_type": "execute_result"
    }
   ],
   "source": [
    "sorted_r2_scr=sorted(r2_scr,reverse=True)\n",
    "sorted_r2_scr"
   ]
  },
  {
   "cell_type": "code",
   "execution_count": 133,
   "id": "c55c2fa6",
   "metadata": {},
   "outputs": [],
   "source": [
    "result_df[\"Before_param_r2_scr\"]=sorted_r2_scr"
   ]
  },
  {
   "cell_type": "code",
   "execution_count": 134,
   "id": "c925730d",
   "metadata": {},
   "outputs": [
    {
     "data": {
      "text/html": [
       "<div>\n",
       "<style scoped>\n",
       "    .dataframe tbody tr th:only-of-type {\n",
       "        vertical-align: middle;\n",
       "    }\n",
       "\n",
       "    .dataframe tbody tr th {\n",
       "        vertical-align: top;\n",
       "    }\n",
       "\n",
       "    .dataframe thead th {\n",
       "        text-align: right;\n",
       "    }\n",
       "</style>\n",
       "<table border=\"1\" class=\"dataframe\">\n",
       "  <thead>\n",
       "    <tr style=\"text-align: right;\">\n",
       "      <th></th>\n",
       "      <th>Model_Name</th>\n",
       "      <th>r2_score</th>\n",
       "      <th>mean_sqr_err</th>\n",
       "      <th>mean_abs_error</th>\n",
       "      <th>Before_param_r2_scr</th>\n",
       "    </tr>\n",
       "  </thead>\n",
       "  <tbody>\n",
       "    <tr>\n",
       "      <th>7</th>\n",
       "      <td>Gradient_boost_reg</td>\n",
       "      <td>0.872139</td>\n",
       "      <td>4.077761e+05</td>\n",
       "      <td>394.076937</td>\n",
       "      <td>0.835939</td>\n",
       "    </tr>\n",
       "    <tr>\n",
       "      <th>5</th>\n",
       "      <td>Random_forest</td>\n",
       "      <td>0.818871</td>\n",
       "      <td>5.841889e+05</td>\n",
       "      <td>571.116748</td>\n",
       "      <td>0.789100</td>\n",
       "    </tr>\n",
       "    <tr>\n",
       "      <th>9</th>\n",
       "      <td>xgb_reg</td>\n",
       "      <td>0.797314</td>\n",
       "      <td>6.934583e+05</td>\n",
       "      <td>605.784442</td>\n",
       "      <td>0.775715</td>\n",
       "    </tr>\n",
       "    <tr>\n",
       "      <th>0</th>\n",
       "      <td>linear_regression</td>\n",
       "      <td>0.712486</td>\n",
       "      <td>9.571116e+05</td>\n",
       "      <td>705.021821</td>\n",
       "      <td>0.710746</td>\n",
       "    </tr>\n",
       "    <tr>\n",
       "      <th>1</th>\n",
       "      <td>lasso</td>\n",
       "      <td>0.710871</td>\n",
       "      <td>9.573610e+05</td>\n",
       "      <td>705.140364</td>\n",
       "      <td>0.710490</td>\n",
       "    </tr>\n",
       "    <tr>\n",
       "      <th>2</th>\n",
       "      <td>ridge</td>\n",
       "      <td>0.704115</td>\n",
       "      <td>9.571047e+05</td>\n",
       "      <td>705.317250</td>\n",
       "      <td>0.710488</td>\n",
       "    </tr>\n",
       "    <tr>\n",
       "      <th>6</th>\n",
       "      <td>Adaboost_reg</td>\n",
       "      <td>0.668102</td>\n",
       "      <td>1.312793e+06</td>\n",
       "      <td>1032.534431</td>\n",
       "      <td>0.652814</td>\n",
       "    </tr>\n",
       "    <tr>\n",
       "      <th>3</th>\n",
       "      <td>elastic_net</td>\n",
       "      <td>0.652125</td>\n",
       "      <td>1.211667e+06</td>\n",
       "      <td>978.001249</td>\n",
       "      <td>0.618020</td>\n",
       "    </tr>\n",
       "    <tr>\n",
       "      <th>4</th>\n",
       "      <td>decision_tree</td>\n",
       "      <td>0.411745</td>\n",
       "      <td>1.913105e+06</td>\n",
       "      <td>1014.031990</td>\n",
       "      <td>0.411745</td>\n",
       "    </tr>\n",
       "    <tr>\n",
       "      <th>8</th>\n",
       "      <td>svr</td>\n",
       "      <td>0.198329</td>\n",
       "      <td>2.388124e+06</td>\n",
       "      <td>1137.879651</td>\n",
       "      <td>0.201929</td>\n",
       "    </tr>\n",
       "  </tbody>\n",
       "</table>\n",
       "</div>"
      ],
      "text/plain": [
       "           Model_Name  r2_score  mean_sqr_err  mean_abs_error  \\\n",
       "7  Gradient_boost_reg  0.872139  4.077761e+05      394.076937   \n",
       "5       Random_forest  0.818871  5.841889e+05      571.116748   \n",
       "9             xgb_reg  0.797314  6.934583e+05      605.784442   \n",
       "0   linear_regression  0.712486  9.571116e+05      705.021821   \n",
       "1               lasso  0.710871  9.573610e+05      705.140364   \n",
       "2               ridge  0.704115  9.571047e+05      705.317250   \n",
       "6        Adaboost_reg  0.668102  1.312793e+06     1032.534431   \n",
       "3         elastic_net  0.652125  1.211667e+06      978.001249   \n",
       "4       decision_tree  0.411745  1.913105e+06     1014.031990   \n",
       "8                 svr  0.198329  2.388124e+06     1137.879651   \n",
       "\n",
       "   Before_param_r2_scr  \n",
       "7             0.835939  \n",
       "5             0.789100  \n",
       "9             0.775715  \n",
       "0             0.710746  \n",
       "1             0.710490  \n",
       "2             0.710488  \n",
       "6             0.652814  \n",
       "3             0.618020  \n",
       "4             0.411745  \n",
       "8             0.201929  "
      ]
     },
     "execution_count": 134,
     "metadata": {},
     "output_type": "execute_result"
    }
   ],
   "source": [
    "result_df"
   ]
  },
  {
   "cell_type": "code",
   "execution_count": 136,
   "id": "297f6dac",
   "metadata": {},
   "outputs": [],
   "source": [
    "result_df['RMSE']=np.sqrt(result_df['mean_sqr_err'])"
   ]
  },
  {
   "cell_type": "code",
   "execution_count": 137,
   "id": "bc39e5d7",
   "metadata": {},
   "outputs": [
    {
     "data": {
      "text/html": [
       "<div>\n",
       "<style scoped>\n",
       "    .dataframe tbody tr th:only-of-type {\n",
       "        vertical-align: middle;\n",
       "    }\n",
       "\n",
       "    .dataframe tbody tr th {\n",
       "        vertical-align: top;\n",
       "    }\n",
       "\n",
       "    .dataframe thead th {\n",
       "        text-align: right;\n",
       "    }\n",
       "</style>\n",
       "<table border=\"1\" class=\"dataframe\">\n",
       "  <thead>\n",
       "    <tr style=\"text-align: right;\">\n",
       "      <th></th>\n",
       "      <th>Model_Name</th>\n",
       "      <th>r2_score</th>\n",
       "      <th>mean_sqr_err</th>\n",
       "      <th>mean_abs_error</th>\n",
       "      <th>Before_param_r2_scr</th>\n",
       "      <th>RMSE</th>\n",
       "    </tr>\n",
       "  </thead>\n",
       "  <tbody>\n",
       "    <tr>\n",
       "      <th>7</th>\n",
       "      <td>Gradient_boost_reg</td>\n",
       "      <td>0.872139</td>\n",
       "      <td>4.077761e+05</td>\n",
       "      <td>394.076937</td>\n",
       "      <td>0.835939</td>\n",
       "      <td>638.573524</td>\n",
       "    </tr>\n",
       "    <tr>\n",
       "      <th>5</th>\n",
       "      <td>Random_forest</td>\n",
       "      <td>0.818871</td>\n",
       "      <td>5.841889e+05</td>\n",
       "      <td>571.116748</td>\n",
       "      <td>0.789100</td>\n",
       "      <td>764.322498</td>\n",
       "    </tr>\n",
       "    <tr>\n",
       "      <th>9</th>\n",
       "      <td>xgb_reg</td>\n",
       "      <td>0.797314</td>\n",
       "      <td>6.934583e+05</td>\n",
       "      <td>605.784442</td>\n",
       "      <td>0.775715</td>\n",
       "      <td>832.741430</td>\n",
       "    </tr>\n",
       "    <tr>\n",
       "      <th>0</th>\n",
       "      <td>linear_regression</td>\n",
       "      <td>0.712486</td>\n",
       "      <td>9.571116e+05</td>\n",
       "      <td>705.021821</td>\n",
       "      <td>0.710746</td>\n",
       "      <td>978.320821</td>\n",
       "    </tr>\n",
       "    <tr>\n",
       "      <th>1</th>\n",
       "      <td>lasso</td>\n",
       "      <td>0.710871</td>\n",
       "      <td>9.573610e+05</td>\n",
       "      <td>705.140364</td>\n",
       "      <td>0.710490</td>\n",
       "      <td>978.448264</td>\n",
       "    </tr>\n",
       "    <tr>\n",
       "      <th>2</th>\n",
       "      <td>ridge</td>\n",
       "      <td>0.704115</td>\n",
       "      <td>9.571047e+05</td>\n",
       "      <td>705.317250</td>\n",
       "      <td>0.710488</td>\n",
       "      <td>978.317259</td>\n",
       "    </tr>\n",
       "    <tr>\n",
       "      <th>6</th>\n",
       "      <td>Adaboost_reg</td>\n",
       "      <td>0.668102</td>\n",
       "      <td>1.312793e+06</td>\n",
       "      <td>1032.534431</td>\n",
       "      <td>0.652814</td>\n",
       "      <td>1145.771987</td>\n",
       "    </tr>\n",
       "    <tr>\n",
       "      <th>3</th>\n",
       "      <td>elastic_net</td>\n",
       "      <td>0.652125</td>\n",
       "      <td>1.211667e+06</td>\n",
       "      <td>978.001249</td>\n",
       "      <td>0.618020</td>\n",
       "      <td>1100.757599</td>\n",
       "    </tr>\n",
       "    <tr>\n",
       "      <th>4</th>\n",
       "      <td>decision_tree</td>\n",
       "      <td>0.411745</td>\n",
       "      <td>1.913105e+06</td>\n",
       "      <td>1014.031990</td>\n",
       "      <td>0.411745</td>\n",
       "      <td>1383.150390</td>\n",
       "    </tr>\n",
       "    <tr>\n",
       "      <th>8</th>\n",
       "      <td>svr</td>\n",
       "      <td>0.198329</td>\n",
       "      <td>2.388124e+06</td>\n",
       "      <td>1137.879651</td>\n",
       "      <td>0.201929</td>\n",
       "      <td>1545.355657</td>\n",
       "    </tr>\n",
       "  </tbody>\n",
       "</table>\n",
       "</div>"
      ],
      "text/plain": [
       "           Model_Name  r2_score  mean_sqr_err  mean_abs_error  \\\n",
       "7  Gradient_boost_reg  0.872139  4.077761e+05      394.076937   \n",
       "5       Random_forest  0.818871  5.841889e+05      571.116748   \n",
       "9             xgb_reg  0.797314  6.934583e+05      605.784442   \n",
       "0   linear_regression  0.712486  9.571116e+05      705.021821   \n",
       "1               lasso  0.710871  9.573610e+05      705.140364   \n",
       "2               ridge  0.704115  9.571047e+05      705.317250   \n",
       "6        Adaboost_reg  0.668102  1.312793e+06     1032.534431   \n",
       "3         elastic_net  0.652125  1.211667e+06      978.001249   \n",
       "4       decision_tree  0.411745  1.913105e+06     1014.031990   \n",
       "8                 svr  0.198329  2.388124e+06     1137.879651   \n",
       "\n",
       "   Before_param_r2_scr         RMSE  \n",
       "7             0.835939   638.573524  \n",
       "5             0.789100   764.322498  \n",
       "9             0.775715   832.741430  \n",
       "0             0.710746   978.320821  \n",
       "1             0.710490   978.448264  \n",
       "2             0.710488   978.317259  \n",
       "6             0.652814  1145.771987  \n",
       "3             0.618020  1100.757599  \n",
       "4             0.411745  1383.150390  \n",
       "8             0.201929  1545.355657  "
      ]
     },
     "execution_count": 137,
     "metadata": {},
     "output_type": "execute_result"
    }
   ],
   "source": [
    "result_df"
   ]
  },
  {
   "cell_type": "code",
   "execution_count": 152,
   "id": "69fba6f8",
   "metadata": {},
   "outputs": [
    {
     "data": {
      "image/png": "[encoded data removed]",
      "text/plain": [
       "<Figure size 640x480 with 1 Axes>"
      ]
     },
     "metadata": {},
     "output_type": "display_data"
    }
   ],
   "source": [
    "plt.title('BAR-PLOT OF PERFORMANCE THE MODELS',fontweight='bold')\n",
    "plt.bar(result_df['Model_Name'],result_df['r2_score'])\n",
    "plt.xticks(rotation=90)\n",
    "plt.show()"
   ]
  },
  {
   "cell_type": "code",
   "execution_count": 153,
   "id": "3f98b8b6",
   "metadata": {},
   "outputs": [
    {
     "data": {
      "image/png": "[encoded data removed]",
      "text/plain": [
       "<Figure size 640x480 with 1 Axes>"
      ]
     },
     "metadata": {},
     "output_type": "display_data"
    }
   ],
   "source": [
    "plt.title('BAR-PLOT OF MEAN-SQUARE-ERROR',fontweight='bold')\n",
    "plt.bar(result_df['Model_Name'],result_df['mean_sqr_err'])\n",
    "plt.xticks(rotation=90)\n",
    "plt.show()"
   ]
  },
  {
   "cell_type": "code",
   "execution_count": 154,
   "id": "cd012982",
   "metadata": {},
   "outputs": [
    {
     "data": {
      "image/png": "[encoded data removed]",
      "text/plain": [
       "<Figure size 640x480 with 1 Axes>"
      ]
     },
     "metadata": {},
     "output_type": "display_data"
    }
   ],
   "source": [
    "plt.title('BAR-PLOT OF ROOT-MEAN-SQUARE-ERROR',fontweight='bold')\n",
    "plt.bar(result_df['Model_Name'],result_df['RMSE'])\n",
    "plt.xticks(rotation=90)\n",
    "plt.show()"
   ]
  },
  {
   "cell_type": "code",
   "execution_count": 155,
   "id": "1aa32cd0",
   "metadata": {},
   "outputs": [
    {
     "data": {
      "image/png": "[encoded data removed]",
      "text/plain": [
       "<Figure size 640x480 with 1 Axes>"
      ]
     },
     "metadata": {},
     "output_type": "display_data"
    }
   ],
   "source": [
    "plt.title('BAR-PLOT OF MEAN-ABSOLUTE-ERROR',fontweight='bold')\n",
    "plt.bar(result_df['Model_Name'],result_df['mean_abs_error'])\n",
    "plt.xticks(rotation=90)\n",
    "plt.show()"
   ]
  },
  {
   "cell_type": "code",
   "execution_count": 186,
   "id": "7c3995c5",
   "metadata": {},
   "outputs": [
    {
     "data": {
      "image/png": "[encoded data removed]",
      "text/plain": [
       "<Figure size 1100x500 with 2 Axes>"
      ]
     },
     "metadata": {},
     "output_type": "display_data"
    }
   ],
   "source": [
    "plt.figure(figsize=(11,5))\n",
    "plt.suptitle('COMPARISION OF MODEL SCORE :',fontweight='bold')\n",
    "\n",
    "ax1=plt.subplot(1,2,1)\n",
    "ax1.bar(result_df['Model_Name'],result_df['Before_param_r2_scr'])\n",
    "ax1.set_title(\"BEFORE HYPERPARAMETER TUNING :\")\n",
    "ax1.grid()\n",
    "ax1.set_xticklabels(result_df['Model_Name'],rotation=45, ha='right')\n",
    "\n",
    "\n",
    "\n",
    "ax2=plt.subplot(1,2,2)\n",
    "ax2.bar(result_df['Model_Name'],result_df['r2_score'])\n",
    "ax2.set_title(\"AFTER HYPERPARAMETER TUNING :\")\n",
    "ax2.grid()\n",
    "ax2.set_xticklabels(result_df['Model_Name'],rotation=45, ha='right')\n",
    "\n",
    "\n",
    "\n",
    "plt.show()"
   ]
  },
  {
   "cell_type": "code",
   "execution_count": 195,
   "id": "1f97cc6c",
   "metadata": {},
   "outputs": [
    {
     "data": {
      "image/png": "[encoded data removed]",
      "text/plain": [
       "<Figure size 800x500 with 1 Axes>"
      ]
     },
     "metadata": {},
     "output_type": "display_data"
    }
   ],
   "source": [
    "plt.figure(figsize=(8,5))\n",
    "plt.title('EFFECT OF HYPERPARAMETER TUNING :',fontweight='bold')\n",
    "plt.bar(result_df['Model_Name'],result_df['r2_score'],color='black',label='after')\n",
    "plt.bar(result_df['Model_Name'],result_df['Before_param_r2_scr'],width=0.5,color='blue',label='before')\n",
    "plt.xticks(rotation=90)\n",
    "plt.legend()\n",
    "plt.grid()\n",
    "plt.show()"
   ]
  },
  {
   "cell_type": "markdown",
   "id": "2d11745f",
   "metadata": {},
   "source": [
    "## Finalized the best model and Predict the test dataset : "
   ]
  },
  {
   "cell_type": "code",
   "execution_count": null,
   "id": "4d0fe836",
   "metadata": {},
   "outputs": [],
   "source": []
  },
  {
   "cell_type": "code",
   "execution_count": 200,
   "id": "e8315132",
   "metadata": {},
   "outputs": [],
   "source": [
    "best_model=GradientBoostingRegressor(learning_rate=0.05, n_estimators=128, subsample= 0.85)"
   ]
  },
  {
   "cell_type": "code",
   "execution_count": 201,
   "id": "49272fdf",
   "metadata": {},
   "outputs": [
    {
     "data": {
      "text/html": [
       "<style>#sk-28240870-fb8a-4cb1-90b9-0923c449edfc {color: black;background-color: white;}#sk-28240870-fb8a-4cb1-90b9-0923c449edfc pre{padding: 0;}#sk-28240870-fb8a-4cb1-90b9-0923c449edfc div.sk-toggleable {background-color: white;}#sk-28240870-fb8a-4cb1-90b9-0923c449edfc label.sk-toggleable__label {cursor: pointer;display: block;width: 100%;margin-bottom: 0;padding: 0.3em;box-sizing: border-box;text-align: center;}#sk-28240870-fb8a-4cb1-90b9-0923c449edfc label.sk-toggleable__label-arrow:before {content: \"▸\";float: left;margin-right: 0.25em;color: #696969;}#sk-28240870-fb8a-4cb1-90b9-0923c449edfc label.sk-toggleable__label-arrow:hover:before {color: black;}#sk-28240870-fb8a-4cb1-90b9-0923c449edfc div.sk-estimator:hover label.sk-toggleable__label-arrow:before {color: black;}#sk-28240870-fb8a-4cb1-90b9-0923c449edfc div.sk-toggleable__content {max-height: 0;max-width: 0;overflow: hidden;text-align: left;background-color: #f0f8ff;}#sk-28240870-fb8a-4cb1-90b9-0923c449edfc div.sk-toggleable__content pre {margin: 0.2em;color: black;border-radius: 0.25em;background-color: #f0f8ff;}#sk-28240870-fb8a-4cb1-90b9-0923c449edfc input.sk-toggleable__control:checked~div.sk-toggleable__content {max-height: 200px;max-width: 100%;overflow: auto;}#sk-28240870-fb8a-4cb1-90b9-0923c449edfc input.sk-toggleable__control:checked~label.sk-toggleable__label-arrow:before {content: \"▾\";}#sk-28240870-fb8a-4cb1-90b9-0923c449edfc div.sk-estimator input.sk-toggleable__control:checked~label.sk-toggleable__label {background-color: #d4ebff;}#sk-28240870-fb8a-4cb1-90b9-0923c449edfc div.sk-label input.sk-toggleable__control:checked~label.sk-toggleable__label {background-color: #d4ebff;}#sk-28240870-fb8a-4cb1-90b9-0923c449edfc input.sk-hidden--visually {border: 0;clip: rect(1px 1px 1px 1px);clip: rect(1px, 1px, 1px, 1px);height: 1px;margin: -1px;overflow: hidden;padding: 0;position: absolute;width: 1px;}#sk-28240870-fb8a-4cb1-90b9-0923c449edfc div.sk-estimator {font-family: monospace;background-color: #f0f8ff;border: 1px dotted black;border-radius: 0.25em;box-sizing: border-box;margin-bottom: 0.5em;}#sk-28240870-fb8a-4cb1-90b9-0923c449edfc div.sk-estimator:hover {background-color: #d4ebff;}#sk-28240870-fb8a-4cb1-90b9-0923c449edfc div.sk-parallel-item::after {content: \"\";width: 100%;border-bottom: 1px solid gray;flex-grow: 1;}#sk-28240870-fb8a-4cb1-90b9-0923c449edfc div.sk-label:hover label.sk-toggleable__label {background-color: #d4ebff;}#sk-28240870-fb8a-4cb1-90b9-0923c449edfc div.sk-serial::before {content: \"\";position: absolute;border-left: 1px solid gray;box-sizing: border-box;top: 2em;bottom: 0;left: 50%;}#sk-28240870-fb8a-4cb1-90b9-0923c449edfc div.sk-serial {display: flex;flex-direction: column;align-items: center;background-color: white;padding-right: 0.2em;padding-left: 0.2em;}#sk-28240870-fb8a-4cb1-90b9-0923c449edfc div.sk-item {z-index: 1;}#sk-28240870-fb8a-4cb1-90b9-0923c449edfc div.sk-parallel {display: flex;align-items: stretch;justify-content: center;background-color: white;}#sk-28240870-fb8a-4cb1-90b9-0923c449edfc div.sk-parallel::before {content: \"\";position: absolute;border-left: 1px solid gray;box-sizing: border-box;top: 2em;bottom: 0;left: 50%;}#sk-28240870-fb8a-4cb1-90b9-0923c449edfc div.sk-parallel-item {display: flex;flex-direction: column;position: relative;background-color: white;}#sk-28240870-fb8a-4cb1-90b9-0923c449edfc div.sk-parallel-item:first-child::after {align-self: flex-end;width: 50%;}#sk-28240870-fb8a-4cb1-90b9-0923c449edfc div.sk-parallel-item:last-child::after {align-self: flex-start;width: 50%;}#sk-28240870-fb8a-4cb1-90b9-0923c449edfc div.sk-parallel-item:only-child::after {width: 0;}#sk-28240870-fb8a-4cb1-90b9-0923c449edfc div.sk-dashed-wrapped {border: 1px dashed gray;margin: 0 0.4em 0.5em 0.4em;box-sizing: border-box;padding-bottom: 0.4em;background-color: white;position: relative;}#sk-28240870-fb8a-4cb1-90b9-0923c449edfc div.sk-label label {font-family: monospace;font-weight: bold;background-color: white;display: inline-block;line-height: 1.2em;}#sk-28240870-fb8a-4cb1-90b9-0923c449edfc div.sk-label-container {position: relative;z-index: 2;text-align: center;}#sk-28240870-fb8a-4cb1-90b9-0923c449edfc div.sk-container {/* jupyter's `normalize.less` sets `[hidden] { display: none; }` but bootstrap.min.css set `[hidden] { display: none !important; }` so we also need the `!important` here to be able to override the default hidden behavior on the sphinx rendered scikit-learn.org. See: https://github.com/scikit-learn/scikit-learn/issues/21755 */display: inline-block !important;position: relative;}#sk-28240870-fb8a-4cb1-90b9-0923c449edfc div.sk-text-repr-fallback {display: none;}</style><div id=\"sk-28240870-fb8a-4cb1-90b9-0923c449edfc\" class=\"sk-top-container\"><div class=\"sk-text-repr-fallback\"><pre>GradientBoostingRegressor(learning_rate=0.05, n_estimators=128, subsample=0.85)</pre><b>Please rerun this cell to show the HTML repr or trust the notebook.</b></div><div class=\"sk-container\" hidden><div class=\"sk-item\"><div class=\"sk-estimator sk-toggleable\"><input class=\"sk-toggleable__control sk-hidden--visually\" id=\"b1793b70-f670-4e11-850f-1c8a9fcd109f\" type=\"checkbox\" checked><label for=\"b1793b70-f670-4e11-850f-1c8a9fcd109f\" class=\"sk-toggleable__label sk-toggleable__label-arrow\">GradientBoostingRegressor</label><div class=\"sk-toggleable__content\"><pre>GradientBoostingRegressor(learning_rate=0.05, n_estimators=128, subsample=0.85)</pre></div></div></div></div></div>"
      ],
      "text/plain": [
       "GradientBoostingRegressor(learning_rate=0.05, n_estimators=128, subsample=0.85)"
      ]
     },
     "execution_count": 201,
     "metadata": {},
     "output_type": "execute_result"
    }
   ],
   "source": [
    "best_model.fit(X_train,y_train)"
   ]
  },
  {
   "cell_type": "code",
   "execution_count": 202,
   "id": "c8726db6",
   "metadata": {},
   "outputs": [],
   "source": [
    "y_pred=best_model.predict(X_test)"
   ]
  },
  {
   "cell_type": "code",
   "execution_count": 204,
   "id": "b36251f5",
   "metadata": {},
   "outputs": [
    {
     "data": {
      "text/plain": [
       "0.8721385520409746"
      ]
     },
     "execution_count": 204,
     "metadata": {},
     "output_type": "execute_result"
    }
   ],
   "source": [
    "r2_score(y_test,y_pred)"
   ]
  },
  {
   "cell_type": "markdown",
   "id": "003165e7",
   "metadata": {},
   "source": [
    "**So we got the best model for this dataset as `GredientBoostRegressor` with 87.213 % R2-score.**"
   ]
  },
  {
   "cell_type": "markdown",
   "id": "4a812d85",
   "metadata": {},
   "source": [
    "## Dumping my model and Processor :"
   ]
  },
  {
   "cell_type": "code",
   "execution_count": 211,
   "id": "e57aef79",
   "metadata": {},
   "outputs": [],
   "source": [
    "import pickle"
   ]
  },
  {
   "cell_type": "code",
   "execution_count": 212,
   "id": "47cb0cfc",
   "metadata": {},
   "outputs": [],
   "source": [
    "with open('model_GBR.pkl', \"wb\") as file_obj:\n",
    "            pickle.dump(best_model, file_obj)"
   ]
  },
  {
   "cell_type": "code",
   "execution_count": 213,
   "id": "3cd5e3ae",
   "metadata": {},
   "outputs": [],
   "source": [
    "with open('preprocessor_GBR.pkl', \"wb\") as file_obj:\n",
    "            pickle.dump(preprocessor, file_obj)"
   ]
  },
  {
   "cell_type": "markdown",
   "id": "d38efeec",
   "metadata": {},
   "source": [
    "### Predict our given test dataset:"
   ]
  },
  {
   "cell_type": "code",
   "execution_count": 252,
   "id": "90dbfddb",
   "metadata": {},
   "outputs": [],
   "source": [
    "test_df=pd.read_csv(r\"D:\\Project\\ineuron_project\\cleanedTest.csv\")"
   ]
  },
  {
   "cell_type": "code",
   "execution_count": 246,
   "id": "3da87b5b",
   "metadata": {},
   "outputs": [],
   "source": [
    "with open('preprocessor_GBR.pkl','rb') as file_obj:\n",
    "    preprocessor= pickle.load(file_obj)"
   ]
  },
  {
   "cell_type": "code",
   "execution_count": 257,
   "id": "13a7a8b3",
   "metadata": {},
   "outputs": [],
   "source": [
    "test_df_arr=preprocessor.transform(test_df)"
   ]
  },
  {
   "cell_type": "code",
   "execution_count": 258,
   "id": "e6c0b085",
   "metadata": {},
   "outputs": [],
   "source": [
    "sales_result=best_model.predict(test_df_arr)"
   ]
  },
  {
   "cell_type": "code",
   "execution_count": 259,
   "id": "396061b7",
   "metadata": {},
   "outputs": [
    {
     "data": {
      "text/plain": [
       "array([1689.34285746, 1400.21449061,  684.55409944, ..., 1921.95432026,\n",
       "       3547.72905214, 1288.73014437])"
      ]
     },
     "execution_count": 259,
     "metadata": {},
     "output_type": "execute_result"
    }
   ],
   "source": [
    "sales_result"
   ]
  },
  {
   "cell_type": "code",
   "execution_count": 260,
   "id": "a0f85145",
   "metadata": {},
   "outputs": [],
   "source": [
    "test_df['Sales_Result']=sales_result"
   ]
  },
  {
   "cell_type": "code",
   "execution_count": 263,
   "id": "b141816f",
   "metadata": {},
   "outputs": [
    {
     "data": {
      "text/html": [
       "<div>\n",
       "<style scoped>\n",
       "    .dataframe tbody tr th:only-of-type {\n",
       "        vertical-align: middle;\n",
       "    }\n",
       "\n",
       "    .dataframe tbody tr th {\n",
       "        vertical-align: top;\n",
       "    }\n",
       "\n",
       "    .dataframe thead th {\n",
       "        text-align: right;\n",
       "    }\n",
       "</style>\n",
       "<table border=\"1\" class=\"dataframe\">\n",
       "  <thead>\n",
       "    <tr style=\"text-align: right;\">\n",
       "      <th></th>\n",
       "      <th>Item_Identifier</th>\n",
       "      <th>Item_Weight</th>\n",
       "      <th>Item_Fat_Content</th>\n",
       "      <th>Item_Visibility</th>\n",
       "      <th>Item_Type</th>\n",
       "      <th>Item_MRP</th>\n",
       "      <th>Outlet_Age</th>\n",
       "      <th>Outlet_Size</th>\n",
       "      <th>Outlet_Location_Type</th>\n",
       "      <th>Outlet_Type</th>\n",
       "      <th>Sales_Result</th>\n",
       "    </tr>\n",
       "  </thead>\n",
       "  <tbody>\n",
       "    <tr>\n",
       "      <th>3126</th>\n",
       "      <td>NC</td>\n",
       "      <td>8.600</td>\n",
       "      <td>Low Fat</td>\n",
       "      <td>0.069080</td>\n",
       "      <td>others</td>\n",
       "      <td>89.6146</td>\n",
       "      <td>38</td>\n",
       "      <td>Medium</td>\n",
       "      <td>Tier 3</td>\n",
       "      <td>Supermarket Type3</td>\n",
       "      <td>2482.605987</td>\n",
       "    </tr>\n",
       "    <tr>\n",
       "      <th>2258</th>\n",
       "      <td>FD</td>\n",
       "      <td>10.300</td>\n",
       "      <td>Low Fat</td>\n",
       "      <td>0.027358</td>\n",
       "      <td>Fruits and Vegetables</td>\n",
       "      <td>99.1042</td>\n",
       "      <td>24</td>\n",
       "      <td>Medium</td>\n",
       "      <td>Tier 1</td>\n",
       "      <td>Supermarket Type1</td>\n",
       "      <td>1700.624415</td>\n",
       "    </tr>\n",
       "    <tr>\n",
       "      <th>5622</th>\n",
       "      <td>NC</td>\n",
       "      <td>14.600</td>\n",
       "      <td>Low Fat</td>\n",
       "      <td>0.059647</td>\n",
       "      <td>others</td>\n",
       "      <td>183.0976</td>\n",
       "      <td>14</td>\n",
       "      <td>Medium</td>\n",
       "      <td>Tier 3</td>\n",
       "      <td>Supermarket Type2</td>\n",
       "      <td>2768.358488</td>\n",
       "    </tr>\n",
       "    <tr>\n",
       "      <th>155</th>\n",
       "      <td>FD</td>\n",
       "      <td>4.635</td>\n",
       "      <td>Low Fat</td>\n",
       "      <td>0.140772</td>\n",
       "      <td>snacks_breakfast_type</td>\n",
       "      <td>129.4994</td>\n",
       "      <td>36</td>\n",
       "      <td>High</td>\n",
       "      <td>Tier 3</td>\n",
       "      <td>Supermarket Type1</td>\n",
       "      <td>2086.407182</td>\n",
       "    </tr>\n",
       "    <tr>\n",
       "      <th>367</th>\n",
       "      <td>FD</td>\n",
       "      <td>20.850</td>\n",
       "      <td>Low Fat</td>\n",
       "      <td>0.021326</td>\n",
       "      <td>Fruits and Vegetables</td>\n",
       "      <td>104.6306</td>\n",
       "      <td>19</td>\n",
       "      <td>Small</td>\n",
       "      <td>Tier 2</td>\n",
       "      <td>Supermarket Type1</td>\n",
       "      <td>1569.010030</td>\n",
       "    </tr>\n",
       "  </tbody>\n",
       "</table>\n",
       "</div>"
      ],
      "text/plain": [
       "     Item_Identifier  Item_Weight Item_Fat_Content  Item_Visibility  \\\n",
       "3126              NC        8.600          Low Fat         0.069080   \n",
       "2258              FD       10.300          Low Fat         0.027358   \n",
       "5622              NC       14.600          Low Fat         0.059647   \n",
       "155               FD        4.635          Low Fat         0.140772   \n",
       "367               FD       20.850          Low Fat         0.021326   \n",
       "\n",
       "                  Item_Type  Item_MRP  Outlet_Age Outlet_Size  \\\n",
       "3126                 others   89.6146          38      Medium   \n",
       "2258  Fruits and Vegetables   99.1042          24      Medium   \n",
       "5622                 others  183.0976          14      Medium   \n",
       "155   snacks_breakfast_type  129.4994          36        High   \n",
       "367   Fruits and Vegetables  104.6306          19       Small   \n",
       "\n",
       "     Outlet_Location_Type        Outlet_Type  Sales_Result  \n",
       "3126               Tier 3  Supermarket Type3   2482.605987  \n",
       "2258               Tier 1  Supermarket Type1   1700.624415  \n",
       "5622               Tier 3  Supermarket Type2   2768.358488  \n",
       "155                Tier 3  Supermarket Type1   2086.407182  \n",
       "367                Tier 2  Supermarket Type1   1569.010030  "
      ]
     },
     "execution_count": 263,
     "metadata": {},
     "output_type": "execute_result"
    }
   ],
   "source": [
    "test_df.sample(5)"
   ]
  },
  {
   "cell_type": "code",
   "execution_count": 266,
   "id": "53a3530d",
   "metadata": {},
   "outputs": [],
   "source": [
    "#test_df.to_csv('sales_result.csv',index=False)"
   ]
  },
  {
   "cell_type": "code",
   "execution_count": null,
   "id": "56200a7d",
   "metadata": {},
   "outputs": [],
   "source": []
  },
  {
   "cell_type": "code",
   "execution_count": null,
   "id": "cebff902",
   "metadata": {},
   "outputs": [],
   "source": []
  }
 ],
 "metadata": {
  "kernelspec": {
   "display_name": "Python 3 (ipykernel)",
   "language": "python",
   "name": "python3"
  },
  "language_info": {
   "codemirror_mode": {
    "name": "ipython",
    "version": 3
   },
   "file_extension": ".py",
   "mimetype": "text/x-python",
   "name": "python",
   "nbconvert_exporter": "python",
   "pygments_lexer": "ipython3",
   "version": "3.9.13"
  }
 },
 "nbformat": 4,
 "nbformat_minor": 5
}
